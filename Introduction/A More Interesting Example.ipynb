{
 "cells": [
  {
   "cell_type": "markdown",
   "metadata": {},
   "source": [
    "# A More Interesting Example"
   ]
  },
  {
   "cell_type": "markdown",
   "metadata": {},
   "source": [
    "The above example starts to show how we can manipulate irrational numbers exactly using SymPy. But it is much more powerful than that. Symbolic computation system (which by the way, are also often called computer algebra system, or just CASs) such as SymPy are capable of computing symbolic expressions with variables."
   ]
  },
  {
   "cell_type": "markdown",
   "metadata": {},
   "source": [
    "As we will see later, in SymPy, variables are definend using <span style=\"background-color: #dee2e6\">symbols</span>. Unlike many symbolic manipulation systems, variables in SymPy must be defined before they are used (the reason for this will be discussed in the next section)."
   ]
  },
  {
   "cell_type": "markdown",
   "metadata": {},
   "source": [
    "Let us define a symbolic expression, representing the mathematical expression <font size=3><b>x + 2y</b></font>."
   ]
  },
  {
   "cell_type": "code",
   "execution_count": 19,
   "metadata": {},
   "outputs": [
    {
     "data": {
      "text/plain": [
       "x + 2*y"
      ]
     },
     "execution_count": 19,
     "metadata": {},
     "output_type": "execute_result"
    }
   ],
   "source": [
    "from sympy import symbols\n",
    "x, y = symbols('x y')\n",
    "expr = x + 2*y\n",
    "expr"
   ]
  },
  {
   "cell_type": "markdown",
   "metadata": {},
   "source": [
    "Note that we wrote <span style=\"background-color: #dee2e6\">x + 2*y</span> just as we would if <span style=\"background-color: #dee2e6\">x</span> and <span style=\"background-color: #dee2e6\">y</span> were ordinary Python variables. But in this case, instead of evaluating to something, the expression remains as just <span style=\"background-color: #dee2e6\"> x + 2*y</span>. Now let us play around with it:"
   ]
  },
  {
   "cell_type": "code",
   "execution_count": 20,
   "metadata": {},
   "outputs": [
    {
     "data": {
      "text/plain": [
       "x + 2*y + 1"
      ]
     },
     "execution_count": 20,
     "metadata": {},
     "output_type": "execute_result"
    }
   ],
   "source": [
    "expr + 1"
   ]
  },
  {
   "cell_type": "code",
   "execution_count": 21,
   "metadata": {},
   "outputs": [
    {
     "data": {
      "text/plain": [
       "2*y"
      ]
     },
     "execution_count": 21,
     "metadata": {},
     "output_type": "execute_result"
    }
   ],
   "source": [
    "expr - x"
   ]
  },
  {
   "cell_type": "markdown",
   "metadata": {},
   "source": [
    "Notice something in the above example. When we typed <span style=\"background-color: #dee2e6\">expr - x</span>, we did not get <span style=\"background-color: #dee2e6\">x + 2*y - x</span>, but rather just <span style=\"background-color: #dee2e6\">2*y</span>. The <span style=\"background-color: #dee2e6\">x</span> and the <span style=\"background-color: #dee2e6\">- x</span> automatically canceled one another. This is similar to how <span style=\"background-color: #dee2e6\">sqrt(8)</span> automatically turned into <span style=\"background-color: #dee2e6\">2*sqrt(2)</span> above. This isn't always the case in SymPy, however:"
   ]
  },
  {
   "cell_type": "code",
   "execution_count": 22,
   "metadata": {},
   "outputs": [
    {
     "data": {
      "text/plain": [
       "2*x + 2*y"
      ]
     },
     "execution_count": 22,
     "metadata": {},
     "output_type": "execute_result"
    }
   ],
   "source": [
    "x + expr"
   ]
  },
  {
   "cell_type": "markdown",
   "metadata": {},
   "source": [
    "Here, we might have expected $\\boldsymbol{x(x + 2y)}$ to transform into $\\boldsymbol{x^{2}+2xy}$, but instead we see that the expression was left alone. This is a common theme in SymPy. Asife from obvious simplifications like  $\\boldsymbol{x - x = 0}$ and $\\boldsymbol{\\sqrt{8} = 2\\sqrt{2}}$, most simplifications are not performed automatically. This is because we might prefer the factored form $\\boldsymbol{x(x + 2y)}$, or we might prefer the expanded form $\\boldsymbol{x^{2} + 2xy}$. Both forms are useful in different circumstances. In SymPy, there are functions to go from one form to the other"
   ]
  },
  {
   "cell_type": "code",
   "execution_count": 23,
   "metadata": {},
   "outputs": [
    {
     "data": {
      "text/plain": [
       "x**2 + 2*x*y"
      ]
     },
     "execution_count": 23,
     "metadata": {},
     "output_type": "execute_result"
    }
   ],
   "source": [
    "from sympy import expand, factor\n",
    "expanded_expr = expand(x*expr)\n",
    "expanded_expr"
   ]
  },
  {
   "cell_type": "code",
   "execution_count": 24,
   "metadata": {},
   "outputs": [
    {
     "data": {
      "text/plain": [
       "x*(x + 2*y)"
      ]
     },
     "execution_count": 24,
     "metadata": {},
     "output_type": "execute_result"
    }
   ],
   "source": [
    "factor(expanded_expr)"
   ]
  }
 ],
 "metadata": {
  "kernelspec": {
   "display_name": "Python 3",
   "language": "python",
   "name": "python3"
  },
  "language_info": {
   "codemirror_mode": {
    "name": "ipython",
    "version": 3
   },
   "file_extension": ".py",
   "mimetype": "text/x-python",
   "name": "python",
   "nbconvert_exporter": "python",
   "pygments_lexer": "ipython3",
   "version": "3.6.1"
  }
 },
 "nbformat": 4,
 "nbformat_minor": 2
}
